{
  "nbformat": 4,
  "nbformat_minor": 0,
  "metadata": {
    "colab": {
      "name": "altair_tutorial.ipynb",
      "version": "0.3.2",
      "provenance": [],
      "include_colab_link": true
    },
    "kernelspec": {
      "name": "python3",
      "display_name": "Python 3"
    }
  },
  "cells": [
    {
      "cell_type": "markdown",
      "metadata": {
        "id": "view-in-github",
        "colab_type": "text"
      },
      "source": [
        "<a href=\"https://colab.research.google.com/github/Toroi0610/worksoave/blob/master/altair_for_baseball_tutorial.ipynb\" target=\"_parent\"><img src=\"https://colab.research.google.com/assets/colab-badge.svg\" alt=\"Open In Colab\"/></a>"
      ]
    },
    {
      "metadata": {
        "id": "R9Ue9LXeG360",
        "colab_type": "text"
      },
      "cell_type": "markdown",
      "source": [
        "# Altairを使ってみる．\n",
        "MLBのデータの可視化を行う．"
      ]
    },
    {
      "metadata": {
        "id": "PVCxI0ZKHWrC",
        "colab_type": "code",
        "colab": {
          "base_uri": "https://localhost:8080/",
          "height": 221
        },
        "outputId": "5badc005-0bae-44db-f757-3a0f8e59f2f4"
      },
      "cell_type": "code",
      "source": [
        "!pip install pybaseball\n",
        "import altair as alt\n",
        "from pybaseball import statcast_batter, statcast_pitcher, playerid_lookup"
      ],
      "execution_count": 3,
      "outputs": [
        {
          "output_type": "stream",
          "text": [
            "Requirement already satisfied: pybaseball in /usr/local/lib/python3.6/dist-packages (1.0.7)\n",
            "Requirement already satisfied: requests>=2.18.1 in /usr/local/lib/python3.6/dist-packages (from pybaseball) (2.18.4)\n",
            "Requirement already satisfied: pandas>=0.20.2 in /usr/local/lib/python3.6/dist-packages (from pybaseball) (0.22.0)\n",
            "Requirement already satisfied: numpy>=1.13.0 in /usr/local/lib/python3.6/dist-packages (from pybaseball) (1.14.6)\n",
            "Requirement already satisfied: beautifulsoup4>=4.4.0 in /usr/local/lib/python3.6/dist-packages (from pybaseball) (4.6.3)\n",
            "Requirement already satisfied: idna<2.7,>=2.5 in /usr/local/lib/python3.6/dist-packages (from requests>=2.18.1->pybaseball) (2.6)\n",
            "Requirement already satisfied: certifi>=2017.4.17 in /usr/local/lib/python3.6/dist-packages (from requests>=2.18.1->pybaseball) (2018.11.29)\n",
            "Requirement already satisfied: urllib3<1.23,>=1.21.1 in /usr/local/lib/python3.6/dist-packages (from requests>=2.18.1->pybaseball) (1.22)\n",
            "Requirement already satisfied: chardet<3.1.0,>=3.0.2 in /usr/local/lib/python3.6/dist-packages (from requests>=2.18.1->pybaseball) (3.0.4)\n",
            "Requirement already satisfied: pytz>=2011k in /usr/local/lib/python3.6/dist-packages (from pandas>=0.20.2->pybaseball) (2018.9)\n",
            "Requirement already satisfied: python-dateutil>=2 in /usr/local/lib/python3.6/dist-packages (from pandas>=0.20.2->pybaseball) (2.5.3)\n",
            "Requirement already satisfied: six>=1.5 in /usr/local/lib/python3.6/dist-packages (from python-dateutil>=2->pandas>=0.20.2->pybaseball) (1.11.0)\n"
          ],
          "name": "stdout"
        }
      ]
    },
    {
      "metadata": {
        "id": "hytZYZwdJvJZ",
        "colab_type": "text"
      },
      "cell_type": "markdown",
      "source": [
        "# データ取得\n",
        "大谷翔平の投手としてのデータと野手としてのデータを取得"
      ]
    },
    {
      "metadata": {
        "id": "d27JtRQkHsQw",
        "colab_type": "code",
        "colab": {
          "base_uri": "https://localhost:8080/",
          "height": 68
        },
        "outputId": "3fa105e8-9e0c-4256-91d1-b748062dcd01"
      },
      "cell_type": "code",
      "source": [
        "# データ取得のためのmlb_idを取得\n",
        "player_id = playerid_lookup(\"ohtani\", \"shohei\")[\"key_mlbam\"].values[0]\n",
        "\n",
        "# データ取得期間を決定\n",
        "start_date = '2018-03-01'\n",
        "end_date = '2018-11-30'\n",
        "\n",
        "# 野手のデータを取得\n",
        "batting_data = statcast_batter(start_dt=start_date, end_dt=end_date, player_id=player_id)\n",
        "\n",
        "# 投手のデータを取得\n",
        "pitching_data = statcast_pitcher(start_dt=start_date, end_dt=end_date, player_id=player_id)"
      ],
      "execution_count": 7,
      "outputs": [
        {
          "output_type": "stream",
          "text": [
            "Gathering player lookup table. This may take a moment.\n",
            "Gathering Player Data\n",
            "Gathering Player Data\n"
          ],
          "name": "stdout"
        }
      ]
    },
    {
      "metadata": {
        "id": "3Z_OlQ3CKpkR",
        "colab_type": "code",
        "colab": {
          "base_uri": "https://localhost:8080/",
          "height": 34
        },
        "outputId": "0ce0855a-6eba-4c31-8589-be7969075ef2"
      },
      "cell_type": "code",
      "source": [
        "player_id"
      ],
      "execution_count": 6,
      "outputs": [
        {
          "output_type": "execute_result",
          "data": {
            "text/plain": [
              "660271"
            ]
          },
          "metadata": {
            "tags": []
          },
          "execution_count": 6
        }
      ]
    },
    {
      "metadata": {
        "id": "wTHuLmOdLXtG",
        "colab_type": "code",
        "colab": {}
      },
      "cell_type": "code",
      "source": [
        ""
      ],
      "execution_count": 0,
      "outputs": []
    }
  ]
}